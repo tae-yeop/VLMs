{
 "cells": [
  {
   "cell_type": "code",
   "execution_count": 1,
   "id": "0920e327",
   "metadata": {},
   "outputs": [],
   "source": [
    "from datasets import load_dataset"
   ]
  },
  {
   "cell_type": "code",
   "execution_count": 2,
   "id": "c50cfd51",
   "metadata": {},
   "outputs": [
    {
     "data": {
      "application/vnd.jupyter.widget-view+json": {
       "model_id": "380c09f83fe44b79890874358c2c76b1",
       "version_major": 2,
       "version_minor": 0
      },
      "text/plain": [
       "README.md:   0%|          | 0.00/519 [00:00<?, ?B/s]"
      ]
     },
     "metadata": {},
     "output_type": "display_data"
    },
    {
     "data": {
      "application/vnd.jupyter.widget-view+json": {
       "model_id": "1cdc0986669f45aaa4b0e7cd919c8046",
       "version_major": 2,
       "version_minor": 0
      },
      "text/plain": [
       "data/train-00000-of-00001.parquet:   0%|          | 0.00/344M [00:00<?, ?B/s]"
      ]
     },
     "metadata": {},
     "output_type": "display_data"
    },
    {
     "data": {
      "application/vnd.jupyter.widget-view+json": {
       "model_id": "201fc26cb9084ddcaaf8926aca3f6d58",
       "version_major": 2,
       "version_minor": 0
      },
      "text/plain": [
       "data/test-00000-of-00001.parquet:   0%|          | 0.00/38.2M [00:00<?, ?B/s]"
      ]
     },
     "metadata": {},
     "output_type": "display_data"
    },
    {
     "data": {
      "application/vnd.jupyter.widget-view+json": {
       "model_id": "72cdbd09b17644c581cb51fe614962e4",
       "version_major": 2,
       "version_minor": 0
      },
      "text/plain": [
       "Generating train split:   0%|          | 0/68686 [00:00<?, ? examples/s]"
      ]
     },
     "metadata": {},
     "output_type": "display_data"
    },
    {
     "data": {
      "application/vnd.jupyter.widget-view+json": {
       "model_id": "e3f0f0a34fc044fda38fbccaa3ec5bc8",
       "version_major": 2,
       "version_minor": 0
      },
      "text/plain": [
       "Generating test split:   0%|          | 0/7632 [00:00<?, ? examples/s]"
      ]
     },
     "metadata": {},
     "output_type": "display_data"
    }
   ],
   "source": [
    "dataset_train = load_dataset('unsloth/LaTeX_OCR', split='train[:3000]')"
   ]
  },
  {
   "cell_type": "code",
   "execution_count": 3,
   "id": "c3a6470e",
   "metadata": {},
   "outputs": [
    {
     "data": {
      "text/plain": [
       "Dataset({\n",
       "    features: ['image', 'text'],\n",
       "    num_rows: 3000\n",
       "})"
      ]
     },
     "execution_count": 3,
     "metadata": {},
     "output_type": "execute_result"
    }
   ],
   "source": [
    "dataset_train"
   ]
  },
  {
   "cell_type": "code",
   "execution_count": 11,
   "id": "f6ff5967",
   "metadata": {},
   "outputs": [],
   "source": [
    "import matplotlib.pyplot as plt\n",
    "from tqdm import tqdm"
   ]
  },
  {
   "cell_type": "code",
   "execution_count": 7,
   "id": "a8bf61c1",
   "metadata": {},
   "outputs": [
    {
     "name": "stdout",
     "output_type": "stream",
     "text": [
      "{ \\frac { N } { M } } \\in { \\bf Z } , { \\frac { M } { P } } \\in { \\bf Z } , { \\frac { P } { Q } } \\in { \\bf Z }\n"
     ]
    },
    {
     "data": {
      "text/plain": [
       "<matplotlib.image.AxesImage at 0x7f672c897610>"
      ]
     },
     "execution_count": 7,
     "metadata": {},
     "output_type": "execute_result"
    },
    {
     "data": {
      "image/png": "[encoded data removed]",
      "text/plain": [
       "<Figure size 640x480 with 1 Axes>"
      ]
     },
     "metadata": {},
     "output_type": "display_data"
    }
   ],
   "source": [
    "# Access the first sample in the dataset\n",
    "train_image = dataset_train[0]['image']\n",
    " \n",
    "# Print the corresponding LaTeX text for the first image\n",
    "print(dataset_train[0]['text'])\n",
    " \n",
    "# Display the image using matplotlib\n",
    "plt.imshow(train_image)"
   ]
  },
  {
   "cell_type": "code",
   "execution_count": 9,
   "id": "eb3be0bf",
   "metadata": {},
   "outputs": [],
   "source": [
    "def convert_to_conversation(sample):\n",
    "    \"\"\"\n",
    "    학습을 위한 message dict 형태로. message 하나에 list 하나.\n",
    "    \"\"\"\n",
    "    instruction = 'Convert the equation images to LaTeX equations.'\n",
    "    conversation = [\n",
    "        # User Prompt : 유저의 질문\n",
    "        { 'role': 'user',\n",
    "          'content' : [\n",
    "            {'type' : 'text',  'text'  : instruction},\n",
    "            {'type' : 'image', 'image' : sample['image']} ]\n",
    "        },\n",
    "\n",
    "        # Assistant Response : 모델이 하는 리턴\n",
    "        { 'role' : 'assistant',\n",
    "          'content' : [\n",
    "            {'type' : 'text',  'text'  : sample['text']} ]\n",
    "        },\n",
    "    ]\n",
    "    return { 'messages' : conversation }\n"
   ]
  },
  {
   "cell_type": "code",
   "execution_count": null,
   "id": "202df568",
   "metadata": {},
   "outputs": [
    {
     "name": "stderr",
     "output_type": "stream",
     "text": [
      "100%|██████████| 3000/3000 [00:00<00:00, 3277.22it/s]\n"
     ]
    }
   ],
   "source": [
    "# list of dict를 만듬. 이것도 Trainer에 호환되서 사용가능함\n",
    "train_dataset = [convert_to_conversation(sample) for sample in tqdm(dataset_train, total=len(dataset_train))]"
   ]
  },
  {
   "cell_type": "code",
   "execution_count": 13,
   "id": "5b0ae49e",
   "metadata": {},
   "outputs": [
    {
     "data": {
      "text/plain": [
       "{'messages': [{'role': 'user',\n",
       "   'content': [{'type': 'text',\n",
       "     'text': 'Convert the equation images to LaTeX equations.'},\n",
       "    {'type': 'image',\n",
       "     'image': <PIL.PngImagePlugin.PngImageFile image mode=RGB size=160x40>}]},\n",
       "  {'role': 'assistant',\n",
       "   'content': [{'type': 'text',\n",
       "     'text': '{ \\\\frac { N } { M } } \\\\in { \\\\bf Z } , { \\\\frac { M } { P } } \\\\in { \\\\bf Z } , { \\\\frac { P } { Q } } \\\\in { \\\\bf Z }'}]}]}"
      ]
     },
     "execution_count": 13,
     "metadata": {},
     "output_type": "execute_result"
    }
   ],
   "source": [
    "train_dataset[0]"
   ]
  },
  {
   "cell_type": "code",
   "execution_count": 33,
   "id": "bed80b22",
   "metadata": {},
   "outputs": [],
   "source": [
    "train_dataset2 = dataset_train.map(convert_to_conversation, remove_columns=dataset_train.column_names, num_proc=8)# num_proc=8) # batched=True은 에러남"
   ]
  },
  {
   "cell_type": "code",
   "execution_count": 35,
   "id": "3616e95a",
   "metadata": {},
   "outputs": [
    {
     "data": {
      "text/plain": [
       "{'messages': [{'content': [{'image': None,\n",
       "     'text': 'Convert the equation images to LaTeX equations.',\n",
       "     'type': 'text'},\n",
       "    {'image': {'bytes': b'\\x89PNG\\r\\n\\x1a\\n\\x00\\x00\\x00\\rIHDR\\x00\\x00\\x00\\xa0\\x00\\x00\\x00(\\x08\\x02\\x00\\x00\\x00\\xf6Nf\\xcf\\x00\\x00\\x0b\\x8cIDATx\\x9c\\xed[kl\\x14\\xd5\\x17?\\xf3\\xd8\\x9d\\x99\\xddm\\xa7\\xd2F\\x14\\xad\\xc2\\x07\\x8c!\\xa0\\xec\\x07\\xb4E\\x8aZ$V\\xd3\\xda\\xe2\\xa3iH\\x90\\x18E\\xb1\\x10\\xa1K+\"\\x01i!\\x9a(\\xa5\\xfa\\xc1\\x0f\\x14\\xc5\\xf8\\xc0`\\xe2\\xb2\\x8b\\xad\\xd6D]\\xb4\\xb8\\xeb\\xb3\\xd6DM\\x0c\\xb4\\x15Lc\\x8d)\\xdb\\xees\\xde\\xf7\\xfe?\\xdct,\\xfb\\x10h\\xbb\\xb3\\xfd\\x13~\\x1f\\x9a\\xf6\\xce\\xec\\xcco\\xcf\\xe3\\x9es\\xcf9\\xa50\\xc6p\\x05\\x97/\\xd8l\\x17L\\xc5S\\x14\\x95\\xb22y\\xd1b\\xa4\\xb3\\xba\\x98K\\x16 \\xa3\\x9f\\xe4KJ\\xe7q\\xb8\\xa0\\x07#\\x84h\\x9a\\xb6\\x86\\xcd\\x941;I\\xce\\x06V\\x99\\x15\\x8c\\x10\\xfa\\xf3\\xcf?\\x05Ap\\xb9\\\\N\\xa7\\xd3\\\\\\x11E\\x91a\\x98p8|\\xc3\\r7XO\\x1dc|\\xe6\\xcc\\x19\\x8e\\xe3\\\\.\\x17\\xc7q\\x1c\\xc7\\x99\\xeb\\x14E\\xc5\\xe3qM\\xd3\"\\x91\\x88\\xf5\\xdcLb\\xa2(\\xfe\\xf3\\xcf?\\x08!A\\x10\\x8a\\x8a\\x8a\\x1c\\x0e\\x87\\x9542\"\\xb3 TU\\xed\\xea\\xeaz\\xfc\\xf1\\xc7\\xe7\\xcf\\x9f\\x1f\\x0c\\x061\\xc6\\xaa\\xaa\\xfa\\xfd~\\xb7\\xdb}\\xfd\\xf5\\xd7\\xfb|>M\\xd3,&\\n\\x00\\xb2,\\xf7\\xf4\\xf4\\xb4\\xb4\\xb4\\x94\\x96\\x96\\xbe\\xf6\\xdak\\x00\\xa0i\\x9aa\\x18\\x14E\\x85B\\xa1\\x05\\x0b\\x16,Y\\xb2$/\\xdcdY\\xfe\\xe4\\x93O\\x9a\\x9a\\x9a\\x8a\\x8a\\x8a\\x8e\\x1e=\\xda\\xd5\\xd5\\xb5e\\xcb\\x96\\x92\\x92\\x92\\x9e\\x9e\\x1e\\x8c\\xb1a\\x18\\x16\\xf39\\x0f8\\r\\x08!\\xf2\\xcb\\xd5W_\\r\\x00+W\\xae\\xc4\\x18k\\x9a\\x861.++{\\xf7\\xddw\\t\\xe9\\xf4\\x0f\\xe6\\x14\\x08!\\xf2\\xd2\\xba\\xba:\\x00\\xd8\\xb3g\\x0f\\xc6XQ\\x14UU\\xa3\\xd1hyy9\\x00\\xbc\\xf0\\xc2\\x0b&U\\xeb\\x89\\xdds\\xcf=+V\\xac \\x8b\\x92$\\xdd{\\xef\\xbd,\\xcb&\\x12\\t\\x84\\x90)R\\xeb\\x91u+\\xfb\\xfd\\xf7\\xdf\\xeb\\xea\\xea\\x9a\\x9b\\x9b{{{\\x03\\x81\\x00\\xcb\\xb2ccc\\x7f\\xff\\xfdwCC\\x03q\\x1a\\xab,\\xf0_\\xd04\\x9dL&\\x03\\x81\\x00\\x000\\x0c\\x03\\x00\\xba\\xae\\xdbl\\xb6C\\x87\\x0e\\x8d\\x8e\\x8e\\xf2<\\xbfu\\xebV\\xc30\\xac\\x8f\\x1d4M\\x1b\\x86\\xf1\\xf9\\xe7\\x9fWTT(\\x8a\\x12\\x8dFy\\x9ew8\\x1c\\xba\\xae#\\x84\\xf2\\x9bje\\x90\\x85\\xae\\xeb\\x00\\xf0\\xfa\\xeb\\xaf\\x97\\x94\\x94\\xac_\\xbf\\x1e\\x00\\x8e\\x1f?\\x0e\\x00>\\x9f\\xaf\\xbe\\xbe\\x1e&b\\x9e\\xb5<\\x01!\\x04\\x00^\\xafw\\xeb\\xd6\\xadUUU###\\x08!\\x87\\xc3\\xe1\\xf7\\xfbC\\xa1\\xd0\\xbau\\xeb\\x0c\\xc3\\x10\\x04\\x81a\\x18\\x8b\\xb9\\x11b\\x9f}\\xf6\\x19\\xc30\\xf5\\xf5\\xf5\\x1c\\xc7\\x15\\x16\\x16\\x1e?~\\xdc\\xe7\\xf3\\xd5\\xd4\\xd4\\xd8l\\xb6\\xfc\\xea8\\x83\\x82)\\x8a\"\\xb2\\xbb\\xe9\\xa6\\x9b\\x16/^|\\xfb\\xed\\xb7\\xbf\\xf1\\xc6\\x1b\\x18\\xe3\\xdf~\\xfbM\\x92$\\x96eq>\\x8e\\xce$\\x92\\x05\\x83AA\\x10\\xea\\xeb\\xeb;;;UUM$\\x12\\x07\\x0e\\x1cX\\xbbv\\xed\\xab\\xaf\\xbe\\xbay\\xf3f\\xbb\\xdd\\xaei\\x9a\\xc5\\xd2$\\xc4B\\xa1\\x90a\\x18G\\x8e\\x1c\\xd9\\xbcy\\xf3\\xd3O?\\xbd~\\xfd\\xfa\\xea\\xeaj\\x9f\\xcfg\\xb7\\xdbg\\x97\\x07c\\x8cY\\x96\\x8d\\xc7\\xe3\\xef\\xbf\\xff\\xfe\\x9a5k\\x10B\\xed\\xed\\xed\\xc9d\\xb2\\xb5\\xb55\\x16\\x8b=\\xf3\\xcc3\\x00\\xc0\\xb2YO\\xcf9\\x02a\\x95H$FFF6m\\xdat\\xf6\\xecY]\\xd7y\\x9eoiiq\\xbb\\xdd\\x0f>\\xf8`8\\x1c.))\\xb1^\\x94\\x84\\x98,\\xcb\\xdf}\\xf7\\x9d\\xcb\\xe5\\x8a\\xc5b\\x18c\\x87\\xc3q\\xfa\\xf4\\xe9\\xae\\xae.\\x12G\\xf2|\\x1aN\\x89\\xc9$#\\x18\\x18\\x18\\xa8\\xab\\xab\\x8b\\xc7\\xe3\\x08!EQ\\x8a\\x8b\\x8b)\\x8a\\x12E1\\x1e\\x8f\\xe3IY\\x98e \\xac\\xa2\\xd1\\xe8\\xdc\\xb9s1\\xc6{\\xf7\\xee\\xe58n``\\xe0\\xbe\\xfb\\xeeS\\x14\\xa5\\xad\\xad\\r\\x00\\xc2\\xe1\\xb0\\xf5\\xdc\\xc8\\xeb\\xc8.\\xbdm\\xdb\\xb6\\x8cW\\xf3\\x8bT\\x0f\\xd6u\\x9d\\xa2\\xa8\\xb7\\xdf~{\\xf1\\xe2\\xc5N\\xa7S\\x96e\\x86a\\x9a\\x9a\\x9a0\\xc6[\\xb6lq8\\x1c3\\xb2\\x07jY\\x90\\xed~\\x12\\xc6\\xbe\\xfc\\xf2\\xcb\\r\\x1b6\\x00\\xc0c\\x8f=v\\xed\\xb5\\xd7>\\xfa\\xe8\\xa3\\x1e\\x8f\\xc7n\\xb7G\\xa3\\xd1\\x82\\x82\\x82\\xab\\xae\\xbaj\\x9a\\xac\\xa6F\\x0c\\x00B\\xa1\\x10\\xc7q\\xa5\\xa5\\xa5\\x00\\x90L&u]\\xc7\\x18\\xc3\\xb4}\\xf7R\\xc9dF\\x8a\\xc25M;u\\xea\\xd4\\x8d7\\xde\\xf8\\xc8#\\x8f\\x9c;wNQ\\x14\\xe2:\\x00\\xd0\\xda\\xda\\x8a1VU\\xd5z3TU\\xf5\\xd4\\xa9Ss\\xe7\\xce\\xad\\xaf\\xaf\\x0f\\x87\\xc3\\xf1x\\x1c\\x00\\x9a\\x9b\\x9b\\x93\\xc9d\\x7f\\x7f?\\x00\\xac]\\xbbvppPQ\\x14\\x8b\\x89\\xc9\\xb2<44\\xd4\\xd0\\xd0\\x00\\x00?\\xfd\\xf4S8\\x1c\\xce\\xef\\xa1(\\x1d\\xa9\\x95,UU\\x0f\\x1e<\\xf8\\xd7_\\x7f\\x15\\x15\\x15\\xad\\\\\\xb9\\xb2\\xbc\\xbc\\\\\\xd7u\\x96eO\\x9c8\\xb1h\\xd1\"\\xb2C^\\xd00\\r\\xc3 \\xa6M`\\xb3\\xd9Lc\\xa2(JQ\\x94\\x8e\\x8e\\x0eY\\x96\\xcf\\x9d;G\\\\\\x93\\x84O\\x8c\\xf1s\\xcf=\\xc7\\xf3|\\xfa+\\x08\\xab\\x91\\x91\\x11Q\\x14\\xef\\xba\\xeb\\xae\\xdbn\\xbb\\xed\\xe5\\x97_nnn\\xfe\\xfe\\xfb\\xefC\\xa1P<\\x1e\\xe7y\\xde\\xe5r=\\xf1\\xc4\\x13fy\\xcb2b\\x9d\\x9d\\x9d\\x89DBUU\\x97\\xcbUVVV^^~\\x91\\x15\\xca\\x19\\'\\x93\\x11\\x17\\xaeE\\xcf \\x08\\xa7h4*\\x8a\"\\x00l\\xd8\\xb0\\x81eY\\xc30:;;\\x01`\\xd1\\xa2E}}}6\\x9b\\x8d\\xa6i\\x8b\\x13\\x93YElf\\xc9d\\xc8\\x87I\\x08\\xa1(\\x8a\\xa6i\\xd3\\x12I\\x01\\xe1\\xbf\\x9fh\\xda\\x94\\xd7\\xeb=q\\xe2\\x04\\xc30\\x86a\\xf0<\\xbfo\\xdf>bq\\xe6\\x9d\\xa2(\\xbe\\xf7\\xde{\\xd5\\xd5\\xd5\\x00\\xb0q\\xe3FA\\x10x\\x9e\\x7f\\xf3\\xcd7y\\x9e\\xcfVEIa\\xa5i\\x1a9b\\x92\\xfd\\x90|$[z\\x9fkb\\xe6+&K,/RJ\\xc7y\\x12!O\\'\\xc9\\xfd\\xe4\\x15\\x00 \\xbcq\\xf6\\x8e!\\xd9\\xf1eY^\\xbdz5\\xcb\\xb2K\\x96,!\\xe9X\\xfa\\x0e\\xa1\\xeb\\xfa\\xbcy\\xf3V\\xadZ\\xa5i\\xdaG\\x1f}t\\xf0\\xe0A\\x00\\xd8\\xbe}{YY\\x19Q[F\\xa1\\xa4\\xb0\"\\xc7q\\x8a\\xa2\\xd2\\xd9\\xe6\\x91\\x18\\xa4\\xf5\\r\\xad$\\x93\\x193\\x15\\xccUUE\\x08\\xb5\\xb4\\xb4,[\\xb6\\xec\\xbf\\xefD\\x08E\"\\x11\\x84P\"\\x91(((\\x00\\x80\\x8a\\x8a\\nr$\\xcbEz2\\xab\\x88YO\\xe6_\\xdb\\xc1\\x18\\x8f\\x8f\\x8fc\\x8c3\\x1aT\\x8aUb\\x8c\\x05A\\x10\\x04\\xc1\\xfc,EQccc\\xb7\\xdcrK0\\x18,((P\\x14\\x858\\xbd\\x99\\x1d\\xa4\\xd8x2\\x99lhh\\xe8\\xe9\\xe9\\xa1i\\xfa\\x8b/\\xbeX\\xb1bE$\\x12\\x11E1c\\'\\xff\\xff\\x91\\x98\\xc5d\\xb2\\x815_\\x9cH$\\x96/_\\x1e\\x8b\\xc5.(G\\x9b\\xcd\\xa6i\\x9a\\xc7\\xe3\\xf1x<$\\xc7&\\xeb4MG\\xa3\\xd1\\xb2\\xb223Zc\\x8c\\x0b\\n\\n~\\xf8\\xe1\\x07\\x97\\xcb\\x85\\'b\\x0f\\xe9\\x10\\xec\\xdf\\xbf\\xbf\\xbb\\xbb\\x1b\\x00\\x8e\\x1d;VQQ\\x11\\x8b\\xc5\\xee\\xb8\\xe3\\x8e\\x93\\'O\\x16\\x15\\x15\\x91g\\xd24\\xfd\\x7fM,\\xa7d\\xe6\\xcc\\x99\\x83/.\\x8bfa\"N8\\x9d\\xceP(4\\x99\\xe8\\x7f?\\x82\\x18\\xe6\\xe4\\xbc\\x06!TXXh\\xda\\xa6\\xddn\\'O #\\x03\\xe4Q\\x86a\\xd8l\\xb6\\xaf\\xbf\\xfe\\xba\\xbd\\xbd\\xddf\\xb3\\xd5\\xd6\\xd6>\\xf0\\xc0\\x03\\x00\\xd0\\xd7\\xd7w\\xe6\\xcc\\x19\\x86ah\\x9a\\xb6\\xdb\\xed\\xe4\\x81)\\xc4&\\xcb\\xd1\\xfc\\xd3\\xfc\\t\\x93\\x9c\\xc6bb\\x93%FJ\\xd3f\\xb65\\xe3d\\xfe\\xf8\\xe3\\x8fK\\x08\\xc0`m\\x0cF\\x08\\xe9\\xba>>>N\\xda\\xb7N\\xa7\\xf3\\xec\\xd9\\xb3\\xa3\\xa3\\xa3\\xdd\\xdd\\xddn\\xb7\\x9b\\xe4\\xc6\\xbd\\xbd\\xbd\\xcf?\\xff\\xfcW_}\\x851&\\x99\\xf3\\xe5Dl\\xfadH\\xa7\\x00_t\\x1d\\xf4<\\x05\\x93\\x00n\\x18\\xc6\\xe0\\xe0\\xe0\\xf0\\xf0\\xf0\\xf8\\xf8\\xb8$Ih\\x02\\xa4\\xad\\x1d\\x8dF\\xc3\\xe1\\xf0\\xd0\\xd0PJ\\xcf\\x9f\\xdc IRyy\\xf9\\xd2\\xa5K=\\x1e\\xcf/\\xbf\\xfc200088h\\xdeI\\xaa`\\xaf\\xbc\\xf2\\n\\xc7q\\xc5\\xc5\\xc5\\xa2(\\xce\\x9b7\\xef\\xba\\xeb\\xaes:\\x9dv\\xbb\\xfd\\x9ak\\xae\\xc1\\x18\\xef\\xdb\\xb7\\x0f&\\xfa\\xf9f\\xd5\\x0cM\\x82I/\\x16\\x8b\\r\\x0e\\x0e\\x9e>}zxx\\xd8\\xfc\\xce\\xe9_\\xdb\\x02b\\xe6\\x88\\xc1\\xd0\\xd0\\x90\\xc7\\xe3ill\\xfc\\xf0\\xc3\\x0f3\\xf2\\x99>\\x99\\xd2\\xd2\\xd2H$r\\xf1\\n\\xce\\x10<$Iz\\xeb\\xad\\xb7\\x82\\xc1`ww\\xf7\\xce\\x9d;\\x9f}\\xf6YM\\xd3h\\x9af\\x18&\\x14\\n\\xd5\\xd6\\xd6r\\x1c\\xb7m\\xdb\\xb6\\xc6\\xc6\\xc6\\x94\\xb2\\x11\\x9e\\xd8*w\\xee\\xdc\\x19\\x8b\\xc5\\xe6\\xcf\\x9f\\x0f\\x00v\\xbb\\xfd\\xc9\\'\\x9f477\\x00\\x90e\\xd9\\xf4\\x00r\\x88$\\xc7v2\\xca\\xc40\\xcc\\xd1\\xa3G\\xfb\\xfa\\xfa\\xf6\\xef\\xdf\\x9f\\xf1< I\\xd2\\xe1\\xc3\\x87{{{\\x8f\\x1d;\\xd6\\xd6\\xd6&\\x08B0\\x18\\xfc\\xf8\\xe3\\x8f\\xbd^oUU\\x15B(\\xe5\\xdc\\x92kbx\\xa2.q\\xff\\xfd\\xf7\\x97\\x94\\x94,X\\xb0\\xc00\\x8c_\\x7f\\xfd\\x95\\xe38\\xaf\\xd7\\xcb\\xf3<EQ)\\xd9\\xd34\\xc9\\xb8\\\\\\xaeK\\xa8\\xb7d\\xb4w<\\xd5\\xc9\\x98i\\x1e\\'t]\\x8fD\"n\\xb7\\xfb\\x83\\x0f>\\xc0\\x99v\\xc2)\\xcf\\xc7\\xe4\\x88\\x18\\xf9%\\x14\\n\\t\\x82p\\xe7\\x9dw\\x9a\\xc5pEQ\\x00`\\xd7\\xae]\\x08\\xa1\\xf4\\xea\\xbd\\x95\\xc5\\xea\\x0c\\n\\xc6\\x18\\'\\x12\\x89\\xc2\\xc2B\\x00\\xd8\\xbbw/\\xf9\\x13c\\xdc\\xde\\xde\\xbep\\xe1B\\x9e\\xe7\\xc7\\xc6\\xc6t]\\xcf6\\x96E\\xbe\\x92\\xaa\\xaaf\\xf7#\\xe3=\\xe9 \\xd2\\xd9\\xb3g\\xcf\\xf2\\xe5\\xcbq\\x96\\xb1/B\\x8fX\\xf4\\x8e\\x1d;dY&\\xfb\\xd5\\x9a5k\\x00\\x80\\xb4c\\xb3\\x89o\\xc6\\x89\\x91`\\x19\\x8b\\xc5\\x96-[\\xe6v\\xbb\\xc9\\x8a\\xa2(\\x92$\\xa9\\xaaZ[[+\\x08\\x02\\x11]\\xc6\\xc0152\\x97j\\x1c\\xa9\\n&&\\xf9\\xce;\\xef\\xec\\xde\\xbd\\xbb\\xaa\\xaa\\xaa\\xb1\\xb1\\x91|\\x1f\\x9f\\xcf\\xf7\\xd0C\\x0f\\xb5\\xb5\\xb5\\xd9l6Y\\x963\\x92\\x9e\\x11\\x90hJ\\n\\xf1\\xe9W\\t\\xbd\\x9e\\x9e\\x1e\\x86a\\xfa\\xfb\\xfb\\xc9\\xa2\\xdf\\xef\\x07\\x80\\x9a\\x9a\\x1aY\\x96s7\\r\\x98N\\x8c\\xb8fGG\\x07\\x00|\\xfb\\xed\\xb7xbW\\xd3u]\\x92\\xa4\\x9a\\x9a\\x1a2\\xcc\\x8b\\xf3\\xda\\x18NU0\\xb1\\xd6\\xa7\\x9ez\\xea\\xa5\\x97^:|\\xf80\\xcb\\xb2\\x92$\\xc5\\xe3\\xf1\\x8a\\x8a\\n\\xaf\\xd7;g\\xce\\x9c\\xa6\\xa6\\xa6\\x8c\\xdb\\x8e5 \\xf4v\\xed\\xda\\x05\\x00\\xcd\\xcd\\xcd\\x9b6m\\xda\\xb8q\\xa3(\\x8a\\xd5\\xd5\\xd5d\\xc2\\xcd2Q\\x12\\xf7\\x95e\\xb9\\xb2\\xb2\\x12\\x00\\x88@L\\x02\\xb2,\\x03@qqq4\\x1a\\xc5yU0\\x9d\\x12\\x8f\\xf3>\\x19Che\\xbb\\x94\\xc7\\xf9\\x98tb\\x0c\\xc3h\\x9a\\x16\\x08\\x04*++5MSUU\\xd7u\\xe2\\xc4\\xfd\\xfd\\xfd\\x14E\\xad[\\xb7\\xce\\xe5rY?&v\\x1e&k\\x9b\\x18\\xe0,\\x9c\\x8c1\\xe9\\xe1Y3\\x1fC^\\'I\\x12EQ\\x1d\\x1d\\x1d)W+++y\\x9e\\x0f\\x04\\x02x\\x86N\\xf3S\\xc6y\\x1e\\x8c\\xac\\x9a\\x8c\\x99\\x1aP.\\xe7c\\xa6\\x00<\\xa1\\xe6\\xee\\xee\\xeex<~\\xe0\\xc0\\x81\\xd6\\xd6\\xd6\\x9f\\x7f\\xfe\\xf9\\xe4\\xc9\\x93\\x81@`\\xc7\\x8e\\x1dw\\xdf}\\xb7\\xa6i\\xe9\\xc76\\xabY\\x9a\\x98\\xb5\\x931\\x04\\xb3m>\\x86\\x1c%\\xfc~\\xbf\\xddn\\xbf\\xf5\\xd6[=\\x1e\\xcf\\xa1C\\x87n\\xbe\\xf9\\xe6\\xc2\\xc2\\xc2\\xdd\\xbbw\\x8f\\x8d\\x8deK\\x15\\xad\\xc4y\\x85\\x8e\\x99\\x9a\\x8c\\xc9\\x11\\xa63\\x1f\\x93#\\x90\\xb7\\x7f\\xfa\\xe9\\xa7\\x0f?\\xfc\\xf0\\xea\\xd5\\xabGGG\\xbf\\xf9\\xe6\\x9b\\x1f\\x7f\\xfcq\\xe9\\xd2\\xa5\\x1d\\x1d\\x1dMMM\\x93\\xdb\\x0cy\\x81\\xa5#;\\x97%\\x88\\x8e\\x93\\xc9d4\\x1a%m\\xa2\\xed\\xdb\\xb7\\x1f9r\\xa4\\xba\\xba\\xfa\\xc5\\x17_\\xbc\\xb4\\xe6|\\x0e\\x90\\xaa\\xe0\\xe9L\\xc6X\\x80K\\x9d\\x8f\\xb1\\x06\\xe6.\"\\xcb\\xf2\\xc2\\x85\\x0b\\x87\\x87\\x87W\\xadZ\\xe5\\xf7\\xfb\\x1d\\x0eGJ\\x9d\\xd2z\\\\\\xf1\\xe0\\x99\\x01\\x11#\\xc68\\x99L2\\x0cC\\xba\\x84\\xf8\\xe2Z\\xb69\\xc5\\x15\\x05\\xe7\\n\\xb3A\\xbb\\x90\\xed\\x1f\\xc0\\xaf`\\xca \\xb9+\\xe4\\xfd_\\x92&p\\xc5\\x83/s\\\\\\xf1\\xe0\\xcb\\x1c\\xff\\x03 \\x01)\\x19\\xa7\\xaeXx\\x00\\x00\\x00\\x00IEND\\xaeB`\\x82',\n",
       "      'path': None},\n",
       "     'text': None,\n",
       "     'type': 'image'}],\n",
       "   'role': 'user'},\n",
       "  {'content': [{'image': None,\n",
       "     'text': '{ \\\\frac { N } { M } } \\\\in { \\\\bf Z } , { \\\\frac { M } { P } } \\\\in { \\\\bf Z } , { \\\\frac { P } { Q } } \\\\in { \\\\bf Z }',\n",
       "     'type': 'text'}],\n",
       "   'role': 'assistant'}]}"
      ]
     },
     "execution_count": 35,
     "metadata": {},
     "output_type": "execute_result"
    }
   ],
   "source": [
    "train_dataset2[0]"
   ]
  },
  {
   "cell_type": "code",
   "execution_count": 36,
   "id": "80175101",
   "metadata": {},
   "outputs": [],
   "source": [
    "from PIL import Image\n",
    "def process_vision_info(messages: list[dict]) -> list[Image.Image]:\n",
    "    \"\"\"\n",
    "    데이터셋 이미지를 gemma3에서 처리할 수 있게 RGB 포맷으로 변경\n",
    "    \"\"\"\n",
    "    image_inputs = []\n",
    "    for msg in messages: # list of dict를 순회\n",
    "        content = msg.get(\"content\", [])\n",
    "        if not isinstance(content, list):\n",
    "            content = [content]\n",
    " \n",
    "        for element in content: # 한 dict (msg)안에서 다시 content를 살펴서 image가 있으면 이를 RGB로 변환해서 append시킴\n",
    "            if isinstance(element, dict) and (\"image\" in element or element.get(\"type\") == \"image\"):\n",
    "                image = element[\"image\"]\n",
    "                image_inputs.append(image.convert(\"RGB\"))\n",
    "    return image_inputs"
   ]
  },
  {
   "cell_type": "code",
   "execution_count": 37,
   "id": "d5671e3a",
   "metadata": {},
   "outputs": [
    {
     "data": {
      "text/plain": [
       "dict_keys(['messages'])"
      ]
     },
     "execution_count": 37,
     "metadata": {},
     "output_type": "execute_result"
    }
   ],
   "source": [
    "train_dataset2[0].keys()"
   ]
  },
  {
   "cell_type": "code",
   "execution_count": 38,
   "id": "e6d88c13",
   "metadata": {},
   "outputs": [
    {
     "ename": "AttributeError",
     "evalue": "'NoneType' object has no attribute 'convert'",
     "output_type": "error",
     "traceback": [
      "\u001b[31m---------------------------------------------------------------------------\u001b[39m",
      "\u001b[31mAttributeError\u001b[39m                            Traceback (most recent call last)",
      "\u001b[36mCell\u001b[39m\u001b[36m \u001b[39m\u001b[32mIn[38]\u001b[39m\u001b[32m, line 1\u001b[39m\n\u001b[32m----> \u001b[39m\u001b[32m1\u001b[39m \u001b[43mprocess_vision_info\u001b[49m\u001b[43m(\u001b[49m\u001b[43mtrain_dataset2\u001b[49m\u001b[43m[\u001b[49m\u001b[32;43m0\u001b[39;49m\u001b[43m]\u001b[49m\u001b[43m[\u001b[49m\u001b[33;43m\"\u001b[39;49m\u001b[33;43mmessages\u001b[39;49m\u001b[33;43m\"\u001b[39;49m\u001b[43m]\u001b[49m\u001b[43m)\u001b[49m\n",
      "\u001b[36mCell\u001b[39m\u001b[36m \u001b[39m\u001b[32mIn[36]\u001b[39m\u001b[32m, line 15\u001b[39m, in \u001b[36mprocess_vision_info\u001b[39m\u001b[34m(messages)\u001b[39m\n\u001b[32m     13\u001b[39m         \u001b[38;5;28;01mif\u001b[39;00m \u001b[38;5;28misinstance\u001b[39m(element, \u001b[38;5;28mdict\u001b[39m) \u001b[38;5;129;01mand\u001b[39;00m (\u001b[33m\"\u001b[39m\u001b[33mimage\u001b[39m\u001b[33m\"\u001b[39m \u001b[38;5;129;01min\u001b[39;00m element \u001b[38;5;129;01mor\u001b[39;00m element.get(\u001b[33m\"\u001b[39m\u001b[33mtype\u001b[39m\u001b[33m\"\u001b[39m) == \u001b[33m\"\u001b[39m\u001b[33mimage\u001b[39m\u001b[33m\"\u001b[39m):\n\u001b[32m     14\u001b[39m             image = element[\u001b[33m\"\u001b[39m\u001b[33mimage\u001b[39m\u001b[33m\"\u001b[39m]\n\u001b[32m---> \u001b[39m\u001b[32m15\u001b[39m             image_inputs.append(\u001b[43mimage\u001b[49m\u001b[43m.\u001b[49m\u001b[43mconvert\u001b[49m(\u001b[33m\"\u001b[39m\u001b[33mRGB\u001b[39m\u001b[33m\"\u001b[39m))\n\u001b[32m     16\u001b[39m \u001b[38;5;28;01mreturn\u001b[39;00m image_inputs\n",
      "\u001b[31mAttributeError\u001b[39m: 'NoneType' object has no attribute 'convert'"
     ]
    }
   ],
   "source": [
    "process_vision_info(train_dataset2[0][\"messages\"])"
   ]
  },
  {
   "cell_type": "code",
   "execution_count": 47,
   "id": "3cd7265c",
   "metadata": {},
   "outputs": [],
   "source": [
    "content = train_dataset2[0][\"messages\"][0].get(\"content\", [])"
   ]
  },
  {
   "cell_type": "code",
   "execution_count": 42,
   "id": "dafe05af",
   "metadata": {},
   "outputs": [],
   "source": [
    "if not isinstance(content, list):\n",
    "    content = [content]"
   ]
  },
  {
   "cell_type": "code",
   "execution_count": 44,
   "id": "cc76fe32",
   "metadata": {},
   "outputs": [],
   "source": [
    "image_inputs = []"
   ]
  },
  {
   "cell_type": "code",
   "execution_count": 48,
   "id": "62916338",
   "metadata": {},
   "outputs": [
    {
     "data": {
      "text/plain": [
       "list"
      ]
     },
     "execution_count": 48,
     "metadata": {},
     "output_type": "execute_result"
    }
   ],
   "source": [
    "type(content)"
   ]
  },
  {
   "cell_type": "code",
   "execution_count": 49,
   "id": "b0692cb4",
   "metadata": {},
   "outputs": [
    {
     "data": {
      "text/plain": [
       "{'image': None,\n",
       " 'text': 'Convert the equation images to LaTeX equations.',\n",
       " 'type': 'text'}"
      ]
     },
     "execution_count": 49,
     "metadata": {},
     "output_type": "execute_result"
    }
   ],
   "source": [
    "content[0]"
   ]
  },
  {
   "cell_type": "code",
   "execution_count": 50,
   "id": "e9025266",
   "metadata": {},
   "outputs": [
    {
     "ename": "AttributeError",
     "evalue": "'NoneType' object has no attribute 'convert'",
     "output_type": "error",
     "traceback": [
      "\u001b[31m---------------------------------------------------------------------------\u001b[39m",
      "\u001b[31mAttributeError\u001b[39m                            Traceback (most recent call last)",
      "\u001b[36mCell\u001b[39m\u001b[36m \u001b[39m\u001b[32mIn[50]\u001b[39m\u001b[32m, line 4\u001b[39m\n\u001b[32m      2\u001b[39m \u001b[38;5;28;01mif\u001b[39;00m \u001b[38;5;28misinstance\u001b[39m(element, \u001b[38;5;28mdict\u001b[39m) \u001b[38;5;129;01mand\u001b[39;00m (\u001b[33m\"\u001b[39m\u001b[33mimage\u001b[39m\u001b[33m\"\u001b[39m \u001b[38;5;129;01min\u001b[39;00m element \u001b[38;5;129;01mor\u001b[39;00m element.get(\u001b[33m\"\u001b[39m\u001b[33mtype\u001b[39m\u001b[33m\"\u001b[39m) == \u001b[33m\"\u001b[39m\u001b[33mimage\u001b[39m\u001b[33m\"\u001b[39m):\n\u001b[32m      3\u001b[39m     image = element[\u001b[33m\"\u001b[39m\u001b[33mimage\u001b[39m\u001b[33m\"\u001b[39m]\n\u001b[32m----> \u001b[39m\u001b[32m4\u001b[39m     image_inputs.append(\u001b[43mimage\u001b[49m\u001b[43m.\u001b[49m\u001b[43mconvert\u001b[49m(\u001b[33m\"\u001b[39m\u001b[33mRGB\u001b[39m\u001b[33m\"\u001b[39m))\n",
      "\u001b[31mAttributeError\u001b[39m: 'NoneType' object has no attribute 'convert'"
     ]
    }
   ],
   "source": [
    "for element in content: # 한 dict (msg)안에서 다시 content를 살펴서 image가 있으면 이를 RGB로 변환해서 append시킴\n",
    "    if isinstance(element, dict) and (\"image\" in element or element.get(\"type\") == \"image\"):\n",
    "        image = element[\"image\"]\n",
    "        image_inputs.append(image.convert(\"RGB\"))"
   ]
  },
  {
   "cell_type": "code",
   "execution_count": null,
   "id": "cc8c3f97",
   "metadata": {},
   "outputs": [],
   "source": []
  },
  {
   "cell_type": "code",
   "execution_count": null,
   "id": "aff10753",
   "metadata": {},
   "outputs": [],
   "source": []
  },
  {
   "cell_type": "code",
   "execution_count": null,
   "id": "3598b3ec",
   "metadata": {},
   "outputs": [],
   "source": []
  },
  {
   "cell_type": "markdown",
   "id": "f4ae76f1",
   "metadata": {},
   "source": [
    "batched=True 되게끔 시도"
   ]
  },
  {
   "cell_type": "code",
   "execution_count": null,
   "id": "d5674767",
   "metadata": {},
   "outputs": [],
   "source": []
  },
  {
   "cell_type": "code",
   "execution_count": 21,
   "id": "e480e4c8",
   "metadata": {},
   "outputs": [],
   "source": [
    "import numpy as np\n",
    "from datasets import Features, Array3D, Sequence, Value\n",
    "\n",
    "instruction = \"Convert the equation images to LaTeX equations.\""
   ]
  },
  {
   "cell_type": "code",
   "execution_count": 26,
   "id": "39a9b72d",
   "metadata": {},
   "outputs": [],
   "source": [
    "\n",
    "def convert_batch(batch):\n",
    "    out = {\"messages\": []}\n",
    "    for img, txt in zip(batch[\"image\"], batch[\"text\"]):\n",
    "        out[\"messages\"].append([\n",
    "            {\"role\":\"user\",\"content\":[\n",
    "                 {\"type\":\"text\",\"text\":instruction},\n",
    "                 {\"type\":\"image\",\"image\":img}        # Image() 그대로 전달\n",
    "            ]},\n",
    "            {\"role\":\"assistant\",\"content\":[\n",
    "                 {\"type\":\"text\",\"text\":txt}\n",
    "            ]}\n",
    "        ])\n",
    "    return out"
   ]
  },
  {
   "cell_type": "code",
   "execution_count": 25,
   "id": "976f548e",
   "metadata": {},
   "outputs": [],
   "source": [
    "from datasets import Features, Sequence, Image, Value\n",
    "\n",
    "msg_feature = {\n",
    "    \"role\": Value(\"string\"),\n",
    "    \"content\": Sequence({\n",
    "        \"type\": Value(\"string\"),\n",
    "        \"text\": Value(\"string\"),\n",
    "        \"image\": Image(),           # Image() 타입 사용!\n",
    "    })\n",
    "}\n",
    "\n",
    "features = Features({\"messages\": Sequence(msg_feature)})\n"
   ]
  },
  {
   "cell_type": "code",
   "execution_count": 27,
   "id": "68bc6fd2",
   "metadata": {},
   "outputs": [],
   "source": [
    "train_dataset2 = dataset_train.cast_column(\"image\", Image())   # 원본도 Image()"
   ]
  },
  {
   "cell_type": "code",
   "execution_count": 28,
   "id": "ee455798",
   "metadata": {},
   "outputs": [
    {
     "data": {
      "application/vnd.jupyter.widget-view+json": {
       "model_id": "aa58ef0c5925408f93accbfc0e873bad",
       "version_major": 2,
       "version_minor": 0
      },
      "text/plain": [
       "Map:   0%|          | 0/3000 [00:00<?, ? examples/s]"
      ]
     },
     "metadata": {},
     "output_type": "display_data"
    },
    {
     "ename": "ArrowNotImplementedError",
     "evalue": "Unsupported cast from list<item: struct<role: string, content: list<item: struct<type: string, text: string, image: struct<bytes: binary, path: string>>>>> to struct using function cast_struct",
     "output_type": "error",
     "traceback": [
      "\u001b[31m---------------------------------------------------------------------------\u001b[39m",
      "\u001b[31mArrowNotImplementedError\u001b[39m                  Traceback (most recent call last)",
      "\u001b[36mCell\u001b[39m\u001b[36m \u001b[39m\u001b[32mIn[28]\u001b[39m\u001b[32m, line 1\u001b[39m\n\u001b[32m----> \u001b[39m\u001b[32m1\u001b[39m train_dataset2 = \u001b[43mtrain_dataset2\u001b[49m\u001b[43m.\u001b[49m\u001b[43mmap\u001b[49m\u001b[43m(\u001b[49m\n\u001b[32m      2\u001b[39m \u001b[43m    \u001b[49m\u001b[43mconvert_batch\u001b[49m\u001b[43m,\u001b[49m\n\u001b[32m      3\u001b[39m \u001b[43m    \u001b[49m\u001b[43mremove_columns\u001b[49m\u001b[43m=\u001b[49m\u001b[43mtrain_dataset2\u001b[49m\u001b[43m.\u001b[49m\u001b[43mcolumn_names\u001b[49m\u001b[43m,\u001b[49m\n\u001b[32m      4\u001b[39m \u001b[43m    \u001b[49m\u001b[43mbatched\u001b[49m\u001b[43m=\u001b[49m\u001b[38;5;28;43;01mTrue\u001b[39;49;00m\u001b[43m,\u001b[49m\n\u001b[32m      5\u001b[39m \u001b[43m    \u001b[49m\u001b[43mfeatures\u001b[49m\u001b[43m=\u001b[49m\u001b[43mfeatures\u001b[49m\u001b[43m,\u001b[49m\n\u001b[32m      6\u001b[39m \u001b[43m    \u001b[49m\u001b[43mload_from_cache_file\u001b[49m\u001b[43m=\u001b[49m\u001b[38;5;28;43;01mFalse\u001b[39;49;00m\u001b[43m,\u001b[49m\n\u001b[32m      7\u001b[39m \u001b[43m)\u001b[49m\n",
      "\u001b[36mFile \u001b[39m\u001b[32m/opt/conda/lib/python3.11/site-packages/datasets/arrow_dataset.py:557\u001b[39m, in \u001b[36mtransmit_format.<locals>.wrapper\u001b[39m\u001b[34m(*args, **kwargs)\u001b[39m\n\u001b[32m    550\u001b[39m self_format = {\n\u001b[32m    551\u001b[39m     \u001b[33m\"\u001b[39m\u001b[33mtype\u001b[39m\u001b[33m\"\u001b[39m: \u001b[38;5;28mself\u001b[39m._format_type,\n\u001b[32m    552\u001b[39m     \u001b[33m\"\u001b[39m\u001b[33mformat_kwargs\u001b[39m\u001b[33m\"\u001b[39m: \u001b[38;5;28mself\u001b[39m._format_kwargs,\n\u001b[32m    553\u001b[39m     \u001b[33m\"\u001b[39m\u001b[33mcolumns\u001b[39m\u001b[33m\"\u001b[39m: \u001b[38;5;28mself\u001b[39m._format_columns,\n\u001b[32m    554\u001b[39m     \u001b[33m\"\u001b[39m\u001b[33moutput_all_columns\u001b[39m\u001b[33m\"\u001b[39m: \u001b[38;5;28mself\u001b[39m._output_all_columns,\n\u001b[32m    555\u001b[39m }\n\u001b[32m    556\u001b[39m \u001b[38;5;66;03m# apply actual function\u001b[39;00m\n\u001b[32m--> \u001b[39m\u001b[32m557\u001b[39m out: Union[\u001b[33m\"\u001b[39m\u001b[33mDataset\u001b[39m\u001b[33m\"\u001b[39m, \u001b[33m\"\u001b[39m\u001b[33mDatasetDict\u001b[39m\u001b[33m\"\u001b[39m] = \u001b[43mfunc\u001b[49m\u001b[43m(\u001b[49m\u001b[38;5;28;43mself\u001b[39;49m\u001b[43m,\u001b[49m\u001b[43m \u001b[49m\u001b[43m*\u001b[49m\u001b[43margs\u001b[49m\u001b[43m,\u001b[49m\u001b[43m \u001b[49m\u001b[43m*\u001b[49m\u001b[43m*\u001b[49m\u001b[43mkwargs\u001b[49m\u001b[43m)\u001b[49m\n\u001b[32m    558\u001b[39m datasets: \u001b[38;5;28mlist\u001b[39m[\u001b[33m\"\u001b[39m\u001b[33mDataset\u001b[39m\u001b[33m\"\u001b[39m] = \u001b[38;5;28mlist\u001b[39m(out.values()) \u001b[38;5;28;01mif\u001b[39;00m \u001b[38;5;28misinstance\u001b[39m(out, \u001b[38;5;28mdict\u001b[39m) \u001b[38;5;28;01melse\u001b[39;00m [out]\n\u001b[32m    559\u001b[39m \u001b[38;5;66;03m# re-apply format to the output\u001b[39;00m\n",
      "\u001b[36mFile \u001b[39m\u001b[32m/opt/conda/lib/python3.11/site-packages/datasets/arrow_dataset.py:3079\u001b[39m, in \u001b[36mDataset.map\u001b[39m\u001b[34m(self, function, with_indices, with_rank, input_columns, batched, batch_size, drop_last_batch, remove_columns, keep_in_memory, load_from_cache_file, cache_file_name, writer_batch_size, features, disable_nullable, fn_kwargs, num_proc, suffix_template, new_fingerprint, desc, try_original_type)\u001b[39m\n\u001b[32m   3073\u001b[39m \u001b[38;5;28;01mif\u001b[39;00m transformed_dataset \u001b[38;5;129;01mis\u001b[39;00m \u001b[38;5;28;01mNone\u001b[39;00m:\n\u001b[32m   3074\u001b[39m     \u001b[38;5;28;01mwith\u001b[39;00m hf_tqdm(\n\u001b[32m   3075\u001b[39m         unit=\u001b[33m\"\u001b[39m\u001b[33m examples\u001b[39m\u001b[33m\"\u001b[39m,\n\u001b[32m   3076\u001b[39m         total=pbar_total,\n\u001b[32m   3077\u001b[39m         desc=desc \u001b[38;5;129;01mor\u001b[39;00m \u001b[33m\"\u001b[39m\u001b[33mMap\u001b[39m\u001b[33m\"\u001b[39m,\n\u001b[32m   3078\u001b[39m     ) \u001b[38;5;28;01mas\u001b[39;00m pbar:\n\u001b[32m-> \u001b[39m\u001b[32m3079\u001b[39m \u001b[43m        \u001b[49m\u001b[38;5;28;43;01mfor\u001b[39;49;00m\u001b[43m \u001b[49m\u001b[43mrank\u001b[49m\u001b[43m,\u001b[49m\u001b[43m \u001b[49m\u001b[43mdone\u001b[49m\u001b[43m,\u001b[49m\u001b[43m \u001b[49m\u001b[43mcontent\u001b[49m\u001b[43m \u001b[49m\u001b[38;5;129;43;01min\u001b[39;49;00m\u001b[43m \u001b[49m\u001b[43mDataset\u001b[49m\u001b[43m.\u001b[49m\u001b[43m_map_single\u001b[49m\u001b[43m(\u001b[49m\u001b[43m*\u001b[49m\u001b[43m*\u001b[49m\u001b[43mdataset_kwargs\u001b[49m\u001b[43m)\u001b[49m\u001b[43m:\u001b[49m\n\u001b[32m   3080\u001b[39m \u001b[43m            \u001b[49m\u001b[38;5;28;43;01mif\u001b[39;49;00m\u001b[43m \u001b[49m\u001b[43mdone\u001b[49m\u001b[43m:\u001b[49m\n\u001b[32m   3081\u001b[39m \u001b[43m                \u001b[49m\u001b[43mshards_done\u001b[49m\u001b[43m \u001b[49m\u001b[43m+\u001b[49m\u001b[43m=\u001b[49m\u001b[43m \u001b[49m\u001b[32;43m1\u001b[39;49m\n",
      "\u001b[36mFile \u001b[39m\u001b[32m/opt/conda/lib/python3.11/site-packages/datasets/arrow_dataset.py:3540\u001b[39m, in \u001b[36mDataset._map_single\u001b[39m\u001b[34m(shard, function, with_indices, with_rank, input_columns, batched, batch_size, drop_last_batch, remove_columns, keep_in_memory, cache_file_name, writer_batch_size, features, disable_nullable, fn_kwargs, new_fingerprint, rank, offset, try_original_type)\u001b[39m\n\u001b[32m   3538\u001b[39m         writer.write_table(batch.to_arrow())\n\u001b[32m   3539\u001b[39m     \u001b[38;5;28;01melse\u001b[39;00m:\n\u001b[32m-> \u001b[39m\u001b[32m3540\u001b[39m         \u001b[43mwriter\u001b[49m\u001b[43m.\u001b[49m\u001b[43mwrite_batch\u001b[49m\u001b[43m(\u001b[49m\u001b[43mbatch\u001b[49m\u001b[43m,\u001b[49m\u001b[43m \u001b[49m\u001b[43mtry_original_type\u001b[49m\u001b[43m=\u001b[49m\u001b[43mtry_original_type\u001b[49m\u001b[43m)\u001b[49m\n\u001b[32m   3541\u001b[39m num_examples_progress_update += num_examples_in_batch\n\u001b[32m   3542\u001b[39m \u001b[38;5;28;01mif\u001b[39;00m time.time() > _time + config.PBAR_REFRESH_TIME_INTERVAL:\n",
      "\u001b[36mFile \u001b[39m\u001b[32m/opt/conda/lib/python3.11/site-packages/datasets/arrow_writer.py:630\u001b[39m, in \u001b[36mArrowWriter.write_batch\u001b[39m\u001b[34m(self, batch_examples, writer_batch_size, try_original_type)\u001b[39m\n\u001b[32m    628\u001b[39m schema = inferred_features.arrow_schema \u001b[38;5;28;01mif\u001b[39;00m \u001b[38;5;28mself\u001b[39m.pa_writer \u001b[38;5;129;01mis\u001b[39;00m \u001b[38;5;28;01mNone\u001b[39;00m \u001b[38;5;28;01melse\u001b[39;00m \u001b[38;5;28mself\u001b[39m.schema\n\u001b[32m    629\u001b[39m pa_table = pa.Table.from_arrays(arrays, schema=schema)\n\u001b[32m--> \u001b[39m\u001b[32m630\u001b[39m \u001b[38;5;28;43mself\u001b[39;49m\u001b[43m.\u001b[49m\u001b[43mwrite_table\u001b[49m\u001b[43m(\u001b[49m\u001b[43mpa_table\u001b[49m\u001b[43m,\u001b[49m\u001b[43m \u001b[49m\u001b[43mwriter_batch_size\u001b[49m\u001b[43m)\u001b[49m\n",
      "\u001b[36mFile \u001b[39m\u001b[32m/opt/conda/lib/python3.11/site-packages/datasets/arrow_writer.py:643\u001b[39m, in \u001b[36mArrowWriter.write_table\u001b[39m\u001b[34m(self, pa_table, writer_batch_size)\u001b[39m\n\u001b[32m    641\u001b[39m     \u001b[38;5;28mself\u001b[39m._build_writer(inferred_schema=pa_table.schema)\n\u001b[32m    642\u001b[39m pa_table = pa_table.combine_chunks()\n\u001b[32m--> \u001b[39m\u001b[32m643\u001b[39m pa_table = \u001b[43mtable_cast\u001b[49m\u001b[43m(\u001b[49m\u001b[43mpa_table\u001b[49m\u001b[43m,\u001b[49m\u001b[43m \u001b[49m\u001b[38;5;28;43mself\u001b[39;49m\u001b[43m.\u001b[49m\u001b[43m_schema\u001b[49m\u001b[43m)\u001b[49m\n\u001b[32m    644\u001b[39m \u001b[38;5;28;01mif\u001b[39;00m \u001b[38;5;28mself\u001b[39m.embed_local_files:\n\u001b[32m    645\u001b[39m     pa_table = embed_table_storage(pa_table)\n",
      "\u001b[36mFile \u001b[39m\u001b[32m/opt/conda/lib/python3.11/site-packages/datasets/table.py:2293\u001b[39m, in \u001b[36mtable_cast\u001b[39m\u001b[34m(table, schema)\u001b[39m\n\u001b[32m   2279\u001b[39m \u001b[38;5;250m\u001b[39m\u001b[33;03m\"\"\"Improved version of `pa.Table.cast`.\u001b[39;00m\n\u001b[32m   2280\u001b[39m \n\u001b[32m   2281\u001b[39m \u001b[33;03mIt supports casting to feature types stored in the schema metadata.\u001b[39;00m\n\u001b[32m   (...)\u001b[39m\u001b[32m   2290\u001b[39m \u001b[33;03m    table (`pyarrow.Table`): the casted table\u001b[39;00m\n\u001b[32m   2291\u001b[39m \u001b[33;03m\"\"\"\u001b[39;00m\n\u001b[32m   2292\u001b[39m \u001b[38;5;28;01mif\u001b[39;00m table.schema != schema:\n\u001b[32m-> \u001b[39m\u001b[32m2293\u001b[39m     \u001b[38;5;28;01mreturn\u001b[39;00m \u001b[43mcast_table_to_schema\u001b[49m\u001b[43m(\u001b[49m\u001b[43mtable\u001b[49m\u001b[43m,\u001b[49m\u001b[43m \u001b[49m\u001b[43mschema\u001b[49m\u001b[43m)\u001b[49m\n\u001b[32m   2294\u001b[39m \u001b[38;5;28;01melif\u001b[39;00m table.schema.metadata != schema.metadata:\n\u001b[32m   2295\u001b[39m     \u001b[38;5;28;01mreturn\u001b[39;00m table.replace_schema_metadata(schema.metadata)\n",
      "\u001b[36mFile \u001b[39m\u001b[32m/opt/conda/lib/python3.11/site-packages/datasets/table.py:2253\u001b[39m, in \u001b[36mcast_table_to_schema\u001b[39m\u001b[34m(table, schema)\u001b[39m\n\u001b[32m   2241\u001b[39m     \u001b[38;5;28;01mraise\u001b[39;00m CastError(\n\u001b[32m   2242\u001b[39m         \u001b[33mf\u001b[39m\u001b[33m\"\u001b[39m\u001b[33mCouldn\u001b[39m\u001b[33m'\u001b[39m\u001b[33mt cast\u001b[39m\u001b[38;5;130;01m\\n\u001b[39;00m\u001b[38;5;132;01m{\u001b[39;00m_short_str(table.schema)\u001b[38;5;132;01m}\u001b[39;00m\u001b[38;5;130;01m\\n\u001b[39;00m\u001b[33mto\u001b[39m\u001b[38;5;130;01m\\n\u001b[39;00m\u001b[38;5;132;01m{\u001b[39;00m_short_str(features)\u001b[38;5;132;01m}\u001b[39;00m\u001b[38;5;130;01m\\n\u001b[39;00m\u001b[33mbecause column names don\u001b[39m\u001b[33m'\u001b[39m\u001b[33mt match\u001b[39m\u001b[33m\"\u001b[39m,\n\u001b[32m   2243\u001b[39m         table_column_names=table.column_names,\n\u001b[32m   2244\u001b[39m         requested_column_names=\u001b[38;5;28mlist\u001b[39m(features),\n\u001b[32m   2245\u001b[39m     )\n\u001b[32m   2246\u001b[39m arrays = [\n\u001b[32m   2247\u001b[39m     cast_array_to_feature(\n\u001b[32m   2248\u001b[39m         table[name] \u001b[38;5;28;01mif\u001b[39;00m name \u001b[38;5;129;01min\u001b[39;00m table_column_names \u001b[38;5;28;01melse\u001b[39;00m pa.array([\u001b[38;5;28;01mNone\u001b[39;00m] * \u001b[38;5;28mlen\u001b[39m(table), \u001b[38;5;28mtype\u001b[39m=schema.field(name).type),\n\u001b[32m   (...)\u001b[39m\u001b[32m   2251\u001b[39m     \u001b[38;5;28;01mfor\u001b[39;00m name, feature \u001b[38;5;129;01min\u001b[39;00m features.items()\n\u001b[32m   2252\u001b[39m ]\n\u001b[32m-> \u001b[39m\u001b[32m2253\u001b[39m \u001b[38;5;28;01mreturn\u001b[39;00m \u001b[43mpa\u001b[49m\u001b[43m.\u001b[49m\u001b[43mTable\u001b[49m\u001b[43m.\u001b[49m\u001b[43mfrom_arrays\u001b[49m\u001b[43m(\u001b[49m\u001b[43marrays\u001b[49m\u001b[43m,\u001b[49m\u001b[43m \u001b[49m\u001b[43mschema\u001b[49m\u001b[43m=\u001b[49m\u001b[43mschema\u001b[49m\u001b[43m)\u001b[49m\n",
      "\u001b[36mFile \u001b[39m\u001b[32m/opt/conda/lib/python3.11/site-packages/pyarrow/table.pxi:4893\u001b[39m, in \u001b[36mpyarrow.lib.Table.from_arrays\u001b[39m\u001b[34m()\u001b[39m\n",
      "\u001b[36mFile \u001b[39m\u001b[32m/opt/conda/lib/python3.11/site-packages/pyarrow/table.pxi:1622\u001b[39m, in \u001b[36mpyarrow.lib._sanitize_arrays\u001b[39m\u001b[34m()\u001b[39m\n",
      "\u001b[36mFile \u001b[39m\u001b[32m/opt/conda/lib/python3.11/site-packages/pyarrow/array.pxi:402\u001b[39m, in \u001b[36mpyarrow.lib.asarray\u001b[39m\u001b[34m()\u001b[39m\n",
      "\u001b[36mFile \u001b[39m\u001b[32m/opt/conda/lib/python3.11/site-packages/pyarrow/table.pxi:593\u001b[39m, in \u001b[36mpyarrow.lib.ChunkedArray.cast\u001b[39m\u001b[34m()\u001b[39m\n",
      "\u001b[36mFile \u001b[39m\u001b[32m/opt/conda/lib/python3.11/site-packages/pyarrow/compute.py:410\u001b[39m, in \u001b[36mcast\u001b[39m\u001b[34m(arr, target_type, safe, options, memory_pool)\u001b[39m\n\u001b[32m    408\u001b[39m     \u001b[38;5;28;01melse\u001b[39;00m:\n\u001b[32m    409\u001b[39m         options = CastOptions.safe(target_type)\n\u001b[32m--> \u001b[39m\u001b[32m410\u001b[39m \u001b[38;5;28;01mreturn\u001b[39;00m \u001b[43mcall_function\u001b[49m\u001b[43m(\u001b[49m\u001b[33;43m\"\u001b[39;49m\u001b[33;43mcast\u001b[39;49m\u001b[33;43m\"\u001b[39;49m\u001b[43m,\u001b[49m\u001b[43m \u001b[49m\u001b[43m[\u001b[49m\u001b[43marr\u001b[49m\u001b[43m]\u001b[49m\u001b[43m,\u001b[49m\u001b[43m \u001b[49m\u001b[43moptions\u001b[49m\u001b[43m,\u001b[49m\u001b[43m \u001b[49m\u001b[43mmemory_pool\u001b[49m\u001b[43m)\u001b[49m\n",
      "\u001b[36mFile \u001b[39m\u001b[32m/opt/conda/lib/python3.11/site-packages/pyarrow/_compute.pyx:612\u001b[39m, in \u001b[36mpyarrow._compute.call_function\u001b[39m\u001b[34m()\u001b[39m\n",
      "\u001b[36mFile \u001b[39m\u001b[32m/opt/conda/lib/python3.11/site-packages/pyarrow/_compute.pyx:407\u001b[39m, in \u001b[36mpyarrow._compute.Function.call\u001b[39m\u001b[34m()\u001b[39m\n",
      "\u001b[36mFile \u001b[39m\u001b[32m/opt/conda/lib/python3.11/site-packages/pyarrow/error.pxi:155\u001b[39m, in \u001b[36mpyarrow.lib.pyarrow_internal_check_status\u001b[39m\u001b[34m()\u001b[39m\n",
      "\u001b[36mFile \u001b[39m\u001b[32m/opt/conda/lib/python3.11/site-packages/pyarrow/error.pxi:92\u001b[39m, in \u001b[36mpyarrow.lib.check_status\u001b[39m\u001b[34m()\u001b[39m\n",
      "\u001b[31mArrowNotImplementedError\u001b[39m: Unsupported cast from list<item: struct<role: string, content: list<item: struct<type: string, text: string, image: struct<bytes: binary, path: string>>>>> to struct using function cast_struct"
     ]
    }
   ],
   "source": [
    "train_dataset2 = train_dataset2.map(\n",
    "    convert_batch,\n",
    "    remove_columns=train_dataset2.column_names,\n",
    "    batched=True,\n",
    "    features=features,\n",
    "    load_from_cache_file=False,\n",
    ")"
   ]
  }
 ],
 "metadata": {
  "kernelspec": {
   "display_name": "Python 3 (ipykernel)",
   "language": "python",
   "name": "python3"
  },
  "language_info": {
   "codemirror_mode": {
    "name": "ipython",
    "version": 3
   },
   "file_extension": ".py",
   "mimetype": "text/x-python",
   "name": "python",
   "nbconvert_exporter": "python",
   "pygments_lexer": "ipython3",
   "version": "3.11.12"
  }
 },
 "nbformat": 4,
 "nbformat_minor": 5
}
