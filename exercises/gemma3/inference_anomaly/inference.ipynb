{
 "cells": [
  {
   "cell_type": "code",
   "execution_count": null,
   "id": "1c56d0dc",
   "metadata": {},
   "outputs": [],
   "source": [
    "import torch\n",
    "from transformers import AutoProcessor, AutoModelForImageTextToText, BitsAndBytesConfig\n",
    "\n",
    "import requests\n",
    "from PIL import Image as PILImage\n",
    "import io, os"
   ]
  },
  {
   "cell_type": "code",
   "execution_count": null,
   "id": "42640fb5",
   "metadata": {},
   "outputs": [],
   "source": []
  }
 ],
 "metadata": {
  "kernelspec": {
   "display_name": "Python 3 (ipykernel)",
   "language": "python",
   "name": "python3"
  }
 },
 "nbformat": 4,
 "nbformat_minor": 5
}
